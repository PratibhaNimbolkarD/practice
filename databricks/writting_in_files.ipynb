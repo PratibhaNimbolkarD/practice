{
 "cells": [
  {
   "cell_type": "code",
   "execution_count": 0,
   "metadata": {
    "application/vnd.databricks.v1+cell": {
     "cellMetadata": {
      "byteLimit": 2048000,
      "rowLimit": 10000
     },
     "inputWidgets": {},
     "nuid": "1a3a79de-8b7c-4870-8146-1fd02ff8dac3",
     "showTitle": false,
     "title": ""
    }
   },
   "outputs": [],
   "source": [
    "data = [(\"Pratibha\", 22, \"F\"),\n",
    "        (\"Himani\", 23, \"F\"),\n",
    "        (\"Neha\", 21, \"F\"),\n",
    "        (\"Anjali\", 24, \"M\")]\n",
    "\n",
    "columns = [\"Name\", \"Age\", \"Gender\"]\n",
    "df = spark.createDataFrame(data, columns)\n",
    "\n",
    "# Writing Data to CSV File\n",
    "df.write.csv(\"/dbfs/tmp/csv_file.csv\", header=True)\n",
    "\n",
    "# Writing Data to Parquet File\n",
    "df.write.parquet(\"/dbfs/tmp/parquet_file.parquet\")\n",
    "\n",
    "# Writing Data to JSON File\n",
    "df.write.json(\"/dbfs/tmp/json_file.json\")\n"
   ]
  },
  {
   "cell_type": "code",
   "execution_count": 0,
   "metadata": {
    "application/vnd.databricks.v1+cell": {
     "cellMetadata": {},
     "inputWidgets": {},
     "nuid": "693597d5-1bf8-4c84-a250-8e383b0a0080",
     "showTitle": false,
     "title": ""
    }
   },
   "outputs": [],
   "source": []
  }
 ],
 "metadata": {
  "application/vnd.databricks.v1+notebook": {
   "dashboards": [],
   "language": "python",
   "notebookMetadata": {
    "pythonIndentUnit": 4
   },
   "notebookName": "writting_in_files",
   "widgets": {}
  }
 },
 "nbformat": 4,
 "nbformat_minor": 0
}
